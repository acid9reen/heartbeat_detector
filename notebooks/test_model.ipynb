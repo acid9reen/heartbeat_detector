{
 "cells": [
  {
   "cell_type": "code",
   "execution_count": null,
   "metadata": {},
   "outputs": [],
   "source": [
    "import os\n",
    "import random\n",
    "\n",
    "import numpy as np\n",
    "import torch\n",
    "from matplotlib import pyplot as plt\n",
    "from sklearn import metrics\n",
    "from tqdm import tqdm\n",
    "\n",
    "from heartbeat_detector.dataset.dataset import HeartbeatDataloaders\n",
    "from heartbeat_detector.models.unet_1d import UNet1d\n",
    "from heartbeat_detector.utils import seed_everything"
   ]
  },
  {
   "cell_type": "code",
   "execution_count": null,
   "metadata": {},
   "outputs": [],
   "source": [
    "plt.rcParams['figure.figsize'] = [20, 7]"
   ]
  },
  {
   "cell_type": "code",
   "execution_count": null,
   "metadata": {},
   "outputs": [],
   "source": [
    "seed_everything(420)\n",
    "*__, test_dataloader = HeartbeatDataloaders(r'data\\processed\\2s_sin_with_channels\\dataset.csv', 40, 2).get_train_validation_test_dataloaders()"
   ]
  },
  {
   "cell_type": "code",
   "execution_count": null,
   "metadata": {},
   "outputs": [],
   "source": [
    "DEVICE = 'cuda'"
   ]
  },
  {
   "cell_type": "code",
   "execution_count": null,
   "metadata": {},
   "outputs": [],
   "source": [
    "model_path = r\"out\\trusting-sow-659\\checkpoints\\unet1d_epoch_015.pth\"\n",
    "model = torch.load(model_path).to(DEVICE)\n",
    "model.eval();"
   ]
  },
  {
   "cell_type": "code",
   "execution_count": null,
   "metadata": {},
   "outputs": [],
   "source": [
    "pred_batches = []\n",
    "labels_bathes = []\n",
    "signals_batches = []\n",
    "filenames = []\n",
    "\n",
    "with torch.no_grad():\n",
    "    for filename_batch, signal_batch, label_batch in tqdm(test_dataloader, total=len(test_dataloader)):\n",
    "        signal_batch = signal_batch.to(DEVICE)\n",
    "        label_batch = label_batch.to(DEVICE)\n",
    "\n",
    "        preds_batch = model(signal_batch)\n",
    "\n",
    "        signals_batches.append(signal_batch.cpu().numpy().squeeze())\n",
    "        pred_batches.append(preds_batch.cpu().numpy().squeeze())\n",
    "        labels_bathes.append(label_batch.cpu().numpy().squeeze())\n",
    "        filenames.extend(filename_batch)\n",
    "\n"
   ]
  },
  {
   "cell_type": "code",
   "execution_count": null,
   "metadata": {},
   "outputs": [],
   "source": [
    "pred = pred_batches[0][0]\n",
    "label = labels_bathes[0][0]\n",
    "signal = signals_batches[0][0]"
   ]
  },
  {
   "cell_type": "code",
   "execution_count": null,
   "metadata": {},
   "outputs": [],
   "source": [
    "preds = np.vstack(pred_batches).flatten()\n",
    "labels = np.vstack(labels_bathes).flatten()\n",
    "signals = np.vstack(signals_batches).flatten()"
   ]
  },
  {
   "cell_type": "code",
   "execution_count": null,
   "metadata": {},
   "outputs": [],
   "source": [
    "ground_truth = (labels >= 0.9985329) * 1"
   ]
  },
  {
   "cell_type": "code",
   "execution_count": null,
   "metadata": {},
   "outputs": [],
   "source": [
    "def get_metrics(\n",
    "    target: np.ndarray,\n",
    "    pred: np.ndarray,\n",
    "    half_window_size: int\n",
    ") -> tuple[float, float, float, list[int], list[int]]:\n",
    "\n",
    "    tp, fp, fn = 0, 0, 0\n",
    "    fp_indexes = []\n",
    "    fn_indexes = []\n",
    "\n",
    "    target_peaks_indexes = np.where(target == 1)[0]\n",
    "    pred_peaks_indexes = np.where(pred == 1)[0]\n",
    "\n",
    "    for pred_peak_index in pred_peaks_indexes:\n",
    "        flag = False\n",
    "        for window_mover in range(half_window_size + 1):\n",
    "            if pred_peak_index - window_mover in target_peaks_indexes:\n",
    "                tp += 1\n",
    "                flag = True\n",
    "                break\n",
    "            elif pred_peak_index + window_mover in target_peaks_indexes:\n",
    "                tp += 1\n",
    "                flag = True\n",
    "                break\n",
    "        if not flag:\n",
    "            fp += 1\n",
    "            fp_indexes.append(pred_peak_index)\n",
    "    \n",
    "    for target_peak_index in target_peaks_indexes:\n",
    "        flag = False\n",
    "        for window_mover in range(half_window_size + 1):\n",
    "            if target_peak_index - window_mover in pred_peaks_indexes:\n",
    "                flag = True\n",
    "                break\n",
    "            elif target_peak_index + window_mover in pred_peaks_indexes:\n",
    "                flag = True\n",
    "                break\n",
    "        if not flag:\n",
    "            fn += 1\n",
    "            fn_indexes.append(target_peak_index)\n",
    "\n",
    "    return tp, fp, fn, fp_indexes, fn_indexes\n",
    "\n",
    "def mean_compressor(pred: np.ndarray) -> int:\n",
    "    return len(pred) // 2\n",
    "\n",
    "def max_compressor(pred: np.ndarray) -> int:\n",
    "    return np.argmax(pred)\n",
    "\n",
    "from typing import Callable\n",
    "\n",
    "def compress(\n",
    "    pred: np.ndarray,\n",
    "    treshold: float,\n",
    "    comressor: Callable[[np.ndarray], int]\n",
    "    ) -> np.ndarray:\n",
    "\n",
    "    slices_starts = []\n",
    "    slices_ends = []\n",
    "    flag = False\n",
    "\n",
    "    for index, elem in enumerate(pred):\n",
    "\n",
    "        if (elem > treshold) and (flag == False):\n",
    "            slices_starts.append(index)\n",
    "            flag = True\n",
    "        if (elem < treshold) and (flag == True):\n",
    "            slices_ends.append(index)\n",
    "            flag = False\n",
    "\n",
    "    if flag:\n",
    "        slices_ends.append(len(pred))\n",
    "\n",
    "    peaks_indexes = []\n",
    "\n",
    "    for slice_start, slice_end in zip(slices_starts, slices_ends):\n",
    "        realtive_peak_index = comressor(pred[slice_start: slice_end])\n",
    "        peaks_indexes.append(slice_start + realtive_peak_index)\n",
    "\n",
    "    modified_pred = np.zeros(len(pred))\n",
    "\n",
    "    for peak_index in peaks_indexes:\n",
    "        modified_pred[peak_index] = 1\n",
    "    \n",
    "    return modified_pred\n",
    "\n"
   ]
  },
  {
   "cell_type": "code",
   "execution_count": null,
   "metadata": {},
   "outputs": [],
   "source": [
    "modified_pred_single = compress(pred, 0.3, max_compressor)"
   ]
  },
  {
   "cell_type": "code",
   "execution_count": null,
   "metadata": {},
   "outputs": [],
   "source": [
    "fig, ax = plt.subplots(1, 1, dpi=300, tight_layout=True, figsize=(7, 3))\n",
    "\n",
    "ax.plot([x for x in range(len(pred))], pred, label='Предсказание модели')\n",
    "ax.plot([x for x in range(len(pred))], modified_pred_single, label='Модифицированное предсказание', color='red')\n",
    "ax.set_xlim(1950, 2110)\n",
    "ax.set_ylim(-0.002, 1)\n",
    "ax.legend()\n",
    "ax.axis('off');"
   ]
  },
  {
   "cell_type": "code",
   "execution_count": null,
   "metadata": {},
   "outputs": [],
   "source": [
    "modify_pred = compress(preds, 0.3, max_compressor)\n"
   ]
  },
  {
   "cell_type": "code",
   "execution_count": null,
   "metadata": {},
   "outputs": [],
   "source": [
    "tp, fp, fn, fp_indexes, fn_indexes = get_metrics(ground_truth, modify_pred, 15)\n"
   ]
  },
  {
   "cell_type": "code",
   "execution_count": null,
   "metadata": {},
   "outputs": [],
   "source": [
    "tp, fp, fn"
   ]
  },
  {
   "cell_type": "code",
   "execution_count": null,
   "metadata": {},
   "outputs": [],
   "source": [
    "precision = tp / (tp + fp)\n",
    "recall = tp / (tp + fn)\n",
    "\n",
    "precision, recall"
   ]
  },
  {
   "attachments": {},
   "cell_type": "markdown",
   "metadata": {},
   "source": [
    "# Threshold 0.5, half window size 7\n",
    "Precision, Recall = (0.9462863725146492, 0.9087498647300011)\n",
    "\n",
    "# Threshold 0.3, half window size 15\n",
    "Precision, Recall = (0.9609696279046722, 0.9565265636751452)"
   ]
  },
  {
   "cell_type": "code",
   "execution_count": null,
   "metadata": {},
   "outputs": [],
   "source": [
    "import random"
   ]
  },
  {
   "cell_type": "code",
   "execution_count": null,
   "metadata": {},
   "outputs": [],
   "source": [
    "def get_filename_by_global_index(index: int) -> str:\n",
    "    return filenames[index // 10_000]"
   ]
  },
  {
   "cell_type": "code",
   "execution_count": null,
   "metadata": {},
   "outputs": [],
   "source": [
    "get_filename_by_global_index(79842 - 1000)"
   ]
  },
  {
   "cell_type": "code",
   "execution_count": null,
   "metadata": {},
   "outputs": [],
   "source": [
    "# fn_index = random.choice(fn_indexes)\n",
    "# current_fn_pos = fn_index\n",
    "for fn_index in fn_indexes[20:120:5]:\n",
    "    fig, ax = plt.subplots(1, 1, tight_layout=True, dpi=300, figsize=(10.7, 6))\n",
    "    eps = 250\n",
    "\n",
    "    left = max(0, fn_index // 10000 * 10000)\n",
    "    right = min(len(preds), (fn_index // 10000 + 1) * 10000)\n",
    "\n",
    "    alpha = 0.6\n",
    "\n",
    "\n",
    "    # ax.plot(range(left, right), modify_pred[left:right], 'r', label='Мод. предсказание', alpha=1)\n",
    "    ax.plot(range(left + 3000, right - 3000), signals[left+3000:right-3000], 'b--', label='Исходный сигнал', alpha=alpha)\n",
    "    ax.plot(range(left + 3000, right - 3000), labels[left+3000:right-3000], 'g', label='Модифицированная разметка', alpha=alpha)\n",
    "    ax.set_ylim(-1, 1)\n",
    "    ax.set_xlim(left+3000, right-3000)\n",
    "    ax.legend()\n",
    "    ax.axis('off')\n",
    "    # ax.set_title(get_filename_by_global_index(fn_index))\n",
    "    plt.show()"
   ]
  },
  {
   "cell_type": "code",
   "execution_count": null,
   "metadata": {},
   "outputs": [],
   "source": [
    "# fn_index = random.choice(fn_indexes)\n",
    "# current_fn_pos = fn_index\n",
    "for fn_index in fn_indexes[:20:5]:\n",
    "    fig, ax = plt.subplots(1, 1, tight_layout=True, dpi=300, figsize=(10.7, 6))\n",
    "    eps = 250\n",
    "\n",
    "    left = max(0, fn_index // 10000 * 10000)\n",
    "    right = min(len(preds), (fn_index // 10000 + 1) * 10000)\n",
    "\n",
    "    alpha = 0.6\n",
    "\n",
    "    mod = np.argwhere(modify_pred[left:right] > 0.5)\n",
    "    ax.plot(mod.flatten() + left - 1, [1 for __ in mod], 'rD', label='Мод. предсказание', alpha=1)\n",
    "    ax.plot(range(left, right), signals[left:right], 'b--', label='Исходный сигнал', alpha=alpha)\n",
    "    ax.plot(range(left, right), labels[left:right], 'g', label='Исходная разметка', alpha=alpha)\n",
    "    ax.set_ylim(-1, 2)\n",
    "    ax.set_xlim(left, right)\n",
    "    ax.legend()\n",
    "    ax.axis('off')\n",
    "    # ax.set_title(get_filename_by_global_index(fn_index))\n",
    "    plt.show()"
   ]
  },
  {
   "cell_type": "code",
   "execution_count": null,
   "metadata": {},
   "outputs": [],
   "source": [
    "# fp_index = random.choice(fp_indexes)\n",
    "# current_fp_pos = fp_index\n",
    "for fp_index in fp_indexes[:100:10]:\n",
    "    fig, ax = plt.subplots(1, 1, dpi=300, tight_layout=True, figsize=(10.7, 6))\n",
    "    eps = 250\n",
    "\n",
    "    left = max(0, fp_index - 1000)\n",
    "    right = min(len(preds), fp_index + 1000)\n",
    "\n",
    "    alpha = 0.6\n",
    "\n",
    "    ax.plot(range(left, right), preds[left:right], 'r', label='Предсказание', alpha=alpha)\n",
    "    ax.plot(range(left, right), signals[left:right], 'b--', label='Исходный сигнал', alpha=alpha)\n",
    "    ax.plot(range(left, right), labels[left:right], 'g', label='Исходная разметка', alpha=alpha)\n",
    "    ax.set_ylim(-2, 2)\n",
    "    ax.set_xlim(left, right)\n",
    "    ax.legend()\n",
    "    ax.axis('off')\n",
    "    plt.show()"
   ]
  },
  {
   "cell_type": "code",
   "execution_count": null,
   "metadata": {},
   "outputs": [],
   "source": []
  }
 ],
 "metadata": {
  "kernelspec": {
   "display_name": ".venv",
   "language": "python",
   "name": "python3"
  },
  "language_info": {
   "codemirror_mode": {
    "name": "ipython",
    "version": 3
   },
   "file_extension": ".py",
   "mimetype": "text/x-python",
   "name": "python",
   "nbconvert_exporter": "python",
   "pygments_lexer": "ipython3",
   "version": "3.10.7"
  },
  "orig_nbformat": 4,
  "vscode": {
   "interpreter": {
    "hash": "33be5bc1c91326104754ac037d099fe65aaf1d390c664b486104f89604c45511"
   }
  }
 },
 "nbformat": 4,
 "nbformat_minor": 2
}
