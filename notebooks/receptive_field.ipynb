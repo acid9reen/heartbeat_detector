{
 "cells": [
  {
   "cell_type": "code",
   "execution_count": null,
   "metadata": {},
   "outputs": [],
   "source": [
    "import random\n",
    "\n",
    "from matplotlib import pyplot as plt\n",
    "import numpy as np\n",
    "import torch\n",
    "\n",
    "from heartbeat_detector.dataset.dataset import HeartbeatDataloaders\n",
    "from heartbeat_detector.utils import seed_everything"
   ]
  },
  {
   "cell_type": "code",
   "execution_count": null,
   "metadata": {},
   "outputs": [],
   "source": [
    "plt.rcParams['figure.figsize'] = [20, 7]"
   ]
  },
  {
   "cell_type": "code",
   "execution_count": null,
   "metadata": {},
   "outputs": [],
   "source": [
    "seed_everything(420)\n",
    "*__, test_dataloader = HeartbeatDataloaders(r'data\\processed\\2s_sin_with_channels\\dataset.csv', 40, 1).get_train_validation_test_dataloaders()"
   ]
  },
  {
   "cell_type": "code",
   "execution_count": null,
   "metadata": {},
   "outputs": [],
   "source": [
    "DEVICE = 'cuda'"
   ]
  },
  {
   "cell_type": "code",
   "execution_count": null,
   "metadata": {},
   "outputs": [],
   "source": [
    "# model_path = r\"out\\charming-fish-930\\checkpoints\\unet1d_epoch_050.pth\"\n",
    "model_path = r\"out\\trusting-sow-659\\checkpoints\\unet1d_epoch_015.pth\"\n",
    "model = torch.load(model_path).to(DEVICE)\n",
    "model.eval();"
   ]
  },
  {
   "cell_type": "code",
   "execution_count": null,
   "metadata": {},
   "outputs": [],
   "source": [
    "pred_batches = []\n",
    "labels_bathes = []\n",
    "signals_batches = []\n",
    "\n",
    "with torch.no_grad():\n",
    "    for __, signal_batch, label_batch in test_dataloader:\n",
    "        signal_batch = signal_batch.to(DEVICE)\n",
    "        label_batch = label_batch.to(DEVICE)\n",
    "\n",
    "        preds_batch = model(signal_batch)\n",
    "\n",
    "        signals_batches.append(signal_batch.cpu().numpy().squeeze())\n",
    "        pred_batches.append(preds_batch.cpu().numpy().squeeze())\n",
    "        labels_bathes.append(label_batch.cpu().numpy().squeeze())\n",
    "        break"
   ]
  },
  {
   "cell_type": "code",
   "execution_count": null,
   "metadata": {},
   "outputs": [],
   "source": [
    "index = random.randint(0, len(pred_batches))"
   ]
  },
  {
   "cell_type": "code",
   "execution_count": null,
   "metadata": {},
   "outputs": [],
   "source": [
    "signal = signals_batches[0][index]\n",
    "pred = pred_batches[0][index]\n",
    "label = labels_bathes[0][index]"
   ]
  },
  {
   "cell_type": "code",
   "execution_count": null,
   "metadata": {},
   "outputs": [],
   "source": [
    "# Plot vanilla preds\n",
    "alpha = 0.5\n",
    "plt.plot(range(len(signal)), signal, 'b', label='Raw Signal', alpha=alpha)\n",
    "plt.plot(range(len(label)), label, 'g', label='Ground Truth', alpha=alpha)\n",
    "plt.plot(range(len(pred)), pred, 'r', label='Predictions', alpha=alpha)\n",
    "plt.ylim([-1, 1])\n",
    "plt.legend()\n",
    "plt.show()"
   ]
  },
  {
   "cell_type": "code",
   "execution_count": null,
   "metadata": {},
   "outputs": [],
   "source": [
    "INDEX = 3400\n",
    "\n",
    "signal_copy = np.copy(signal)\n",
    "signal_copy[INDEX] = 1_000_000_000_000\n",
    "signal_tensor = torch.Tensor(np.array([[signal_copy]])).to(DEVICE)\n",
    "\n",
    "with torch.no_grad():\n",
    "    new_pred = model(signal_tensor).cpu().numpy().flatten()"
   ]
  },
  {
   "cell_type": "code",
   "execution_count": null,
   "metadata": {},
   "outputs": [],
   "source": [
    "start = 0\n",
    "stop = 10000\n",
    "\n",
    "plt.plot(range(len(signal[start:stop])), signal[start:stop], 'b', label='Raw Signal', alpha=alpha)\n",
    "plt.plot(range(len(label[start:stop])), label[start:stop], 'g', label='Ground Truth', alpha=alpha)\n",
    "plt.plot(range(len(new_pred[start:stop])), new_pred[start:stop], 'r', label='Predictions', alpha=alpha)\n",
    "plt.ylim([-1, 1])\n",
    "plt.legend()\n",
    "plt.show()"
   ]
  },
  {
   "cell_type": "code",
   "execution_count": null,
   "metadata": {},
   "outputs": [],
   "source": [
    "diff = new_pred - pred\n",
    "\n",
    "eps = 1e-4\n",
    "small_to_zero = (np.abs(diff) > eps) * diff\n",
    "(diff_indexes, *__) = np.nonzero(small_to_zero)"
   ]
  },
  {
   "cell_type": "code",
   "execution_count": null,
   "metadata": {},
   "outputs": [],
   "source": [
    "receptive_field_width = diff_indexes[-1] - diff_indexes[0]"
   ]
  },
  {
   "cell_type": "code",
   "execution_count": null,
   "metadata": {},
   "outputs": [],
   "source": [
    "plt.plot(range(len(diff)), diff)\n",
    "plt.xlim([diff_indexes[0], diff_indexes[-1]])\n",
    "plt.xlabel('Signal index')\n",
    "plt.ylabel('Predictions difference')\n",
    "plt.title(f'Receptive field (width={receptive_field_width})');"
   ]
  },
  {
   "cell_type": "code",
   "execution_count": null,
   "metadata": {},
   "outputs": [],
   "source": []
  }
 ],
 "metadata": {
  "kernelspec": {
   "display_name": "Python 3.10.7 ('.venv': venv)",
   "language": "python",
   "name": "python3"
  },
  "language_info": {
   "codemirror_mode": {
    "name": "ipython",
    "version": 3
   },
   "file_extension": ".py",
   "mimetype": "text/x-python",
   "name": "python",
   "nbconvert_exporter": "python",
   "pygments_lexer": "ipython3",
   "version": "3.10.7 (tags/v3.10.7:6cc6b13, Sep  5 2022, 14:08:36) [MSC v.1933 64 bit (AMD64)]"
  },
  "orig_nbformat": 4,
  "vscode": {
   "interpreter": {
    "hash": "33be5bc1c91326104754ac037d099fe65aaf1d390c664b486104f89604c45511"
   }
  }
 },
 "nbformat": 4,
 "nbformat_minor": 2
}
