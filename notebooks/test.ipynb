{
 "cells": [
  {
   "cell_type": "code",
   "execution_count": null,
   "metadata": {},
   "outputs": [],
   "source": [
    "from tqdm import tqdm\n",
    "from matplotlib import pyplot as plt\n",
    "import numpy as np\n",
    "import torch\n",
    "\n",
    "from heartbeat_detector.utils import seed_everything\n",
    "from heartbeat_detector.models.unet_1d import UNet1d\n",
    "from heartbeat_detector.dataset.dataset import HeartbeatDataloaders"
   ]
  },
  {
   "cell_type": "code",
   "execution_count": null,
   "metadata": {},
   "outputs": [],
   "source": [
    "plt.rcParams['figure.figsize'] = [20, 7]"
   ]
  },
  {
   "cell_type": "code",
   "execution_count": null,
   "metadata": {},
   "outputs": [],
   "source": [
    "seed_everything(420)\n",
    "*__, test_dataloader = HeartbeatDataloaders(r'data\\processed\\2s_sin_with_channels\\good_dataset.csv', 120, 4).get_train_validation_test_dataloaders()"
   ]
  },
  {
   "cell_type": "code",
   "execution_count": null,
   "metadata": {},
   "outputs": [],
   "source": [
    "DEVICE = 'cuda'"
   ]
  },
  {
   "cell_type": "code",
   "execution_count": null,
   "metadata": {},
   "outputs": [],
   "source": [
    "model_path = r\"C:\\Users\\Ruslan\\repos\\lab\\out\\useful-asp-454\\checkpoints\\unet1d_epoch_040.pth\"\n",
    "model = torch.load(model_path).to(DEVICE)\n",
    "model.eval();"
   ]
  },
  {
   "cell_type": "code",
   "execution_count": null,
   "metadata": {},
   "outputs": [],
   "source": [
    "pred_batches = []\n",
    "labels_bathes = []\n",
    "signals_batches = []\n",
    "\n",
    "with torch.no_grad():\n",
    "    for signal_batch, label_batch in tqdm(test_dataloader, total=len(test_dataloader)):\n",
    "        signal_batch = signal_batch.to(DEVICE)\n",
    "        label_batch = label_batch.to(DEVICE)\n",
    "\n",
    "        preds_batch = model(signal_batch)\n",
    "\n",
    "        signals_batches.append(signal_batch.cpu().numpy().squeeze())\n",
    "        pred_batches.append(preds_batch.cpu().numpy().squeeze())\n",
    "        labels_bathes.append(label_batch.cpu().numpy().squeeze())"
   ]
  },
  {
   "cell_type": "code",
   "execution_count": null,
   "metadata": {},
   "outputs": [],
   "source": [
    "preds = np.vstack(pred_batches).flatten()\n",
    "labels = np.vstack(labels_bathes).flatten()\n",
    "signals = np.vstack(signals_batches).flatten()"
   ]
  },
  {
   "cell_type": "code",
   "execution_count": null,
   "metadata": {},
   "outputs": [],
   "source": [
    "record_no = 1000\n",
    "record_len = 2  # in seconds\n",
    "record_shift = record_no * record_len * 5000\n",
    "\n",
    "start = record_shift\n",
    "stop = 1500 + 1 + record_shift\n",
    "alpha = 0.5\n",
    "\n",
    "plt.plot(range(start, stop), signals[start:stop], 'b--', alpha=0.4, label='raw signal')\n",
    "plt.plot(range(start, stop), labels[start:stop], 'g', alpha=alpha, label='ground truth')\n",
    "plt.plot(range(start, stop), (preds)[start:stop], 'r', alpha=alpha, label='predictions')\n",
    "plt.legend()\n",
    "plt.ylim([-1.0, 1.0]);"
   ]
  },
  {
   "cell_type": "code",
   "execution_count": null,
   "metadata": {},
   "outputs": [],
   "source": []
  }
 ],
 "metadata": {
  "kernelspec": {
   "display_name": "Python 3.10.7 ('.venv': venv)",
   "language": "python",
   "name": "python3"
  },
  "language_info": {
   "codemirror_mode": {
    "name": "ipython",
    "version": 3
   },
   "file_extension": ".py",
   "mimetype": "text/x-python",
   "name": "python",
   "nbconvert_exporter": "python",
   "pygments_lexer": "ipython3",
   "version": "3.10.7 (tags/v3.10.7:6cc6b13, Sep  5 2022, 14:08:36) [MSC v.1933 64 bit (AMD64)]"
  },
  "orig_nbformat": 4,
  "vscode": {
   "interpreter": {
    "hash": "33be5bc1c91326104754ac037d099fe65aaf1d390c664b486104f89604c45511"
   }
  }
 },
 "nbformat": 4,
 "nbformat_minor": 2
}
