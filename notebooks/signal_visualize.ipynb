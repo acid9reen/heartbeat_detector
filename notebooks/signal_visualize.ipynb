{
 "cells": [
  {
   "cell_type": "code",
   "execution_count": null,
   "metadata": {},
   "outputs": [],
   "source": [
    "import numpy as np\n",
    "import matplotlib.pyplot as plt"
   ]
  },
  {
   "cell_type": "code",
   "execution_count": null,
   "metadata": {},
   "outputs": [],
   "source": [
    "# Paste your path to signal here\n",
    "path_to_signal = r\"D:\\Downloads\\X_26_ph0.npy\"\n",
    "\n",
    "signal = np.load(path_to_signal, mmap_mode='r')"
   ]
  },
  {
   "cell_type": "code",
   "execution_count": null,
   "metadata": {},
   "outputs": [],
   "source": [
    "len(signal[0])"
   ]
  },
  {
   "cell_type": "code",
   "execution_count": null,
   "metadata": {},
   "outputs": [],
   "source": [
    "num_points = 15_000\n",
    "start = 0\n",
    "channel = 2\n",
    "\n",
    "for channel in [0, 2, 3]:\n",
    "    plt.plot(range(num_points), signal[channel][start:num_points + start])\n",
    "    plt.title(f\"Channel {channel}\")\n",
    "    plt.show()"
   ]
  },
  {
   "cell_type": "code",
   "execution_count": null,
   "metadata": {},
   "outputs": [],
   "source": []
  }
 ],
 "metadata": {
  "kernelspec": {
   "display_name": "Python 3.10.7 ('.venv': venv)",
   "language": "python",
   "name": "python3"
  },
  "language_info": {
   "codemirror_mode": {
    "name": "ipython",
    "version": 3
   },
   "file_extension": ".py",
   "mimetype": "text/x-python",
   "name": "python",
   "nbconvert_exporter": "python",
   "pygments_lexer": "ipython3",
   "version": "3.10.7"
  },
  "orig_nbformat": 4,
  "vscode": {
   "interpreter": {
    "hash": "33be5bc1c91326104754ac037d099fe65aaf1d390c664b486104f89604c45511"
   }
  }
 },
 "nbformat": 4,
 "nbformat_minor": 2
}
