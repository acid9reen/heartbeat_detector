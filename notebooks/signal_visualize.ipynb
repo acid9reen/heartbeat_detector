{
 "cells": [
  {
   "cell_type": "code",
   "execution_count": null,
   "metadata": {},
   "outputs": [],
   "source": [
    "import json\n",
    "\n",
    "import numpy as np\n",
    "import matplotlib.pyplot as plt"
   ]
  },
  {
   "cell_type": "code",
   "execution_count": null,
   "metadata": {},
   "outputs": [],
   "source": [
    "# Paste your path to signal here\n",
    "PATH_TO_SIGNAL = r\"D:\\Datasets\\lab\\raw\\X\\X_25_ph1.npy\"\n",
    "PATH_TO_HEARTBEAT_LOCATIONS = r\"D:\\Datasets\\lab\\raw\\Y_original\\Y_25_ph1.json\"\n",
    "\n",
    "signal = np.load(PATH_TO_SIGNAL, mmap_mode='r')\n",
    "with open(PATH_TO_HEARTBEAT_LOCATIONS, 'r') as in_:\n",
    "    heartbeat_locations = json.load(in_)"
   ]
  },
  {
   "cell_type": "code",
   "execution_count": null,
   "metadata": {},
   "outputs": [],
   "source": [
    "list(map(len, heartbeat_locations))"
   ]
  },
  {
   "cell_type": "code",
   "execution_count": null,
   "metadata": {},
   "outputs": [],
   "source": [
    "list(map(len, signal))"
   ]
  },
  {
   "cell_type": "code",
   "execution_count": null,
   "metadata": {},
   "outputs": [],
   "source": [
    "num_points = 10000\n",
    "start = 827380\n",
    "channel = 14\n",
    "\n",
    "for channel in [14]:\n",
    "    # Plot xs\n",
    "    fig, ax = plt.subplots(1, 1, dpi=300, tight_layout=True, figsize=(4, 4))\n",
    "    ax.plot(range(num_points), signal[channel][start:num_points + start], label='Исходный сигнал')\n",
    "\n",
    "    # Plot ys\n",
    "    for heartbeat_location in heartbeat_locations[channel]:\n",
    "        if 0 <= (skewed_heartbeat_location := heartbeat_location - start) < num_points:\n",
    "            ax.axvline(skewed_heartbeat_location, ymin=0.5, ymax=1, color='red', alpha=0.7)\n",
    "\n",
    "    ax.axhline(0, color='red', alpha=0.7, label='Исходная разметка')\n",
    "\n",
    "    # ax.set_title(f\"Channel {channel}\")\n",
    "    ax.set_ylim(-1, 1)\n",
    "    ax.set_xlim(0, 2000)\n",
    "    ax.legend()\n",
    "    ax.axis('off')\n",
    "    plt.show()"
   ]
  },
  {
   "cell_type": "code",
   "execution_count": null,
   "metadata": {},
   "outputs": [],
   "source": []
  }
 ],
 "metadata": {
  "kernelspec": {
   "display_name": "Python 3 (ipykernel)",
   "language": "python",
   "name": "python3"
  },
  "language_info": {
   "codemirror_mode": {
    "name": "ipython",
    "version": 3
   },
   "file_extension": ".py",
   "mimetype": "text/x-python",
   "name": "python",
   "nbconvert_exporter": "python",
   "pygments_lexer": "ipython3",
   "version": "3.10.7"
  },
  "vscode": {
   "interpreter": {
    "hash": "33be5bc1c91326104754ac037d099fe65aaf1d390c664b486104f89604c45511"
   }
  }
 },
 "nbformat": 4,
 "nbformat_minor": 2
}
